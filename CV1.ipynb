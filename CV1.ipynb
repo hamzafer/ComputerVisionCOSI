{
  "nbformat": 4,
  "nbformat_minor": 0,
  "metadata": {
    "colab": {
      "provenance": [],
      "authorship_tag": "ABX9TyMIg5cLc+9yrdNCLfDhS6ke",
      "include_colab_link": true
    },
    "kernelspec": {
      "name": "python3",
      "display_name": "Python 3"
    },
    "language_info": {
      "name": "python"
    }
  },
  "cells": [
    {
      "cell_type": "markdown",
      "metadata": {
        "id": "view-in-github",
        "colab_type": "text"
      },
      "source": [
        "<a href=\"https://colab.research.google.com/github/hamzafer/ComputerVisionCOSI/blob/main/CV1.ipynb\" target=\"_parent\"><img src=\"https://colab.research.google.com/assets/colab-badge.svg\" alt=\"Open In Colab\"/></a>"
      ]
    },
    {
      "cell_type": "markdown",
      "source": [
        "**Gaussian discretization**\n",
        "\n",
        "- make maths easy\n",
        "- convenient\n",
        "- gaussian of anything is a gaussian lol\n",
        "- associative\n",
        "- seperable (can be factorized) -> computationaly efficient\n",
        "- 1D kernel row, col is always same"
      ],
      "metadata": {
        "id": "DtuYaAj9BNgM"
      }
    },
    {
      "cell_type": "code",
      "source": [
        "from google.colab.patches import cv2_imshow\n",
        "import cv2\n",
        "import numpy as np\n",
        "\n",
        "# Load the image\n",
        "image = cv2.imread(f'/usr/share/opencv4/opencv/samples/data/{selected_image}.jpg')\n",
        "\n",
        "if image is None:\n",
        "    raise ValueError(f\"Error loading image\")\n",
        "\n",
        "# Define a separable Gaussian filter kernel\n",
        "kernel_x = np.array([1, 2, 1])\n",
        "kernel_y = np.array([1, 2, 1])\n",
        "\n",
        "# Normalize the kernels\n",
        "kernel_x = kernel_x / np.sum(kernel_x)\n",
        "kernel_y = kernel_y / np.sum(kernel_y)\n",
        "\n",
        "# Apply the separable filter\n",
        "filtered_image = cv2.sepFilter2D(image, -1, kernel_x, kernel_y)\n",
        "\n",
        "# Display the original and filtered images\n",
        "cv2_imshow(image)\n",
        "cv2_imshow(filtered_image)\n"
      ],
      "metadata": {
        "colab": {
          "base_uri": "https://localhost:8080/",
          "height": 250
        },
        "id": "K2UPvvoNBVRj",
        "outputId": "74683a05-dc5d-4ada-c192-2749e4d09536"
      },
      "execution_count": 5,
      "outputs": [
        {
          "output_type": "error",
          "ename": "ValueError",
          "evalue": "Error loading image lena.jpg",
          "traceback": [
            "\u001b[0;31m---------------------------------------------------------------------------\u001b[0m",
            "\u001b[0;31mValueError\u001b[0m                                Traceback (most recent call last)",
            "\u001b[0;32m<ipython-input-5-64ec3e2b6c6f>\u001b[0m in \u001b[0;36m<cell line: 14>\u001b[0;34m()\u001b[0m\n\u001b[1;32m     13\u001b[0m \u001b[0;34m\u001b[0m\u001b[0m\n\u001b[1;32m     14\u001b[0m \u001b[0;32mif\u001b[0m \u001b[0mimage\u001b[0m \u001b[0;32mis\u001b[0m \u001b[0;32mNone\u001b[0m\u001b[0;34m:\u001b[0m\u001b[0;34m\u001b[0m\u001b[0;34m\u001b[0m\u001b[0m\n\u001b[0;32m---> 15\u001b[0;31m     \u001b[0;32mraise\u001b[0m \u001b[0mValueError\u001b[0m\u001b[0;34m(\u001b[0m\u001b[0;34mf\"Error loading image {selected_image}.jpg\"\u001b[0m\u001b[0;34m)\u001b[0m\u001b[0;34m\u001b[0m\u001b[0;34m\u001b[0m\u001b[0m\n\u001b[0m\u001b[1;32m     16\u001b[0m \u001b[0;34m\u001b[0m\u001b[0m\n\u001b[1;32m     17\u001b[0m \u001b[0;31m# Define a separable Gaussian filter kernel\u001b[0m\u001b[0;34m\u001b[0m\u001b[0;34m\u001b[0m\u001b[0m\n",
            "\u001b[0;31mValueError\u001b[0m: Error loading image lena.jpg"
          ]
        }
      ]
    },
    {
      "cell_type": "code",
      "source": [],
      "metadata": {
        "id": "LY6kY6pMEoTs"
      },
      "execution_count": null,
      "outputs": []
    }
  ]
}